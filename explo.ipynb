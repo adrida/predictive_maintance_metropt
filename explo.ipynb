{
 "cells": [
  {
   "cell_type": "code",
   "execution_count": 2,
   "metadata": {},
   "outputs": [],
   "source": [
    "import pandas as pd"
   ]
  },
  {
   "cell_type": "code",
   "execution_count": 3,
   "metadata": {},
   "outputs": [],
   "source": [
    "df = pd.read_pickle(\"results/final_chunks_complete_losses_WAE_LSTMDiscriminator_TCN_analog_feats_4_2_30_3_1.0_3_32_150_0.001_0.001_32.pkl\")"
   ]
  },
  {
   "cell_type": "code",
   "execution_count": 7,
   "metadata": {},
   "outputs": [
    {
     "data": {
      "text/plain": [
       "dict_keys(['reconstruction', 'critic'])"
      ]
     },
     "execution_count": 7,
     "metadata": {},
     "output_type": "execute_result"
    }
   ],
   "source": [
    "df[\"train\"].keys()"
   ]
  },
  {
   "cell_type": "code",
   "execution_count": 7,
   "metadata": {},
   "outputs": [
    {
     "data": {
      "text/plain": [
       "(7116940, 21)"
      ]
     },
     "execution_count": 7,
     "metadata": {},
     "output_type": "execute_result"
    }
   ],
   "source": [
    "df.shape"
   ]
  },
  {
   "cell_type": "code",
   "execution_count": 8,
   "metadata": {},
   "outputs": [],
   "source": [
    "import os\n",
    "import numpy as np\n",
    "import torch as th\n",
    "from torch import optim\n",
    "from torch import nn\n",
    "import torch.nn.functional as F\n",
    "from torch.distributions.multivariate_normal import MultivariateNormal\n",
    "import pickle as pkl\n",
    "import tqdm\n",
    "from ArgumentParser import parse_arguments\n",
    "from models.LSTM_AAE import Encoder, Decoder, SimpleDiscriminator, LSTMDiscriminator, ConvDiscriminator\n",
    "from torch.utils.data import Dataset, DataLoader\n",
    "from models.LSTMAE import LSTM_AE\n",
    "from models.LSTM_SAE import LSTM_SAE\n",
    "from models.TCN_AE import TCN_AE\n",
    "from models.TCN_AAE import Encoder_TCN, Decoder_TCN, SimpleDiscriminator_TCN, LSTMDiscriminator_TCN, ConvDiscriminator_TCN"
   ]
  },
  {
   "cell_type": "code",
   "execution_count": 9,
   "metadata": {},
   "outputs": [],
   "source": [
    "\n",
    "encoders = dict(LSTM=Encoder,\n",
    "                TCN=Encoder_TCN)\n",
    "\n",
    "decoders = dict(LSTM=Decoder,\n",
    "                TCN=Decoder_TCN)"
   ]
  },
  {
   "cell_type": "code",
   "execution_count": 14,
   "metadata": {},
   "outputs": [],
   "source": [
    "device = th.device('cuda' if th.cuda.is_available() else 'cpu')\n",
    "decoder = Encoder_TCN(4,16,0.2,2,hidden_dim=30, kernel_size=3).to(device)\n",
    "encoder = Decoder_TCN(16,4,0.2,2,hidden_dim=30, kernel_size=3).to(device)\n",
    "model = LSTMDiscriminator_TCN(4,0.2,n_layers=3,disc_hidden=32,kernel_size=3, window_size=1800).to(device)"
   ]
  },
  {
   "cell_type": "code",
   "execution_count": 15,
   "metadata": {},
   "outputs": [],
   "source": [
    "decoder_path = \"/home/ridaadam/Documents/metro-anomaly-ECML2023-main/predictive_maintance_metropt/results/final_chunks_offline_WAE_decoder_LSTMDiscriminator_TCN_analog_feats_4_2_30_3_1.0_3_32_150_0.001_0.001_32.pt\"\n",
    "encoder_path = \"/home/ridaadam/Documents/metro-anomaly-ECML2023-main/predictive_maintance_metropt/results/final_chunks_offline_WAE_encoder_LSTMDiscriminator_TCN_analog_feats_4_2_30_3_1.0_3_32_150_0.001_0.001_32.pt\"\n",
    "discrimator_path = \"/home/ridaadam/Documents/metro-anomaly-ECML2023-main/predictive_maintance_metropt/results/final_chunks_offline_WAE_discriminator_LSTMDiscriminator_TCN_analog_feats_4_2_30_3_1.0_3_32_150_0.001_0.001_32.pt\""
   ]
  },
  {
   "cell_type": "code",
   "execution_count": 16,
   "metadata": {},
   "outputs": [
    {
     "ename": "RuntimeError",
     "evalue": "Error(s) in loading state_dict for Encoder_TCN:\n\tsize mismatch for output_layer.weight: copying a param with shape torch.Size([8, 30]) from checkpoint, the shape in current model is torch.Size([16, 30]).\n\tsize mismatch for output_layer.bias: copying a param with shape torch.Size([8]) from checkpoint, the shape in current model is torch.Size([16]).",
     "output_type": "error",
     "traceback": [
      "\u001b[0;31m---------------------------------------------------------------------------\u001b[0m",
      "\u001b[0;31mRuntimeError\u001b[0m                              Traceback (most recent call last)",
      "Cell \u001b[0;32mIn[16], line 2\u001b[0m\n\u001b[1;32m      1\u001b[0m \u001b[39m# Load the weights into the models\u001b[39;00m\n\u001b[0;32m----> 2\u001b[0m decoder\u001b[39m.\u001b[39;49mload_state_dict(th\u001b[39m.\u001b[39;49mload(decoder_path, map_location\u001b[39m=\u001b[39;49mdevice))\n\u001b[1;32m      3\u001b[0m encoder\u001b[39m.\u001b[39mload_state_dict(th\u001b[39m.\u001b[39mload(encoder_path, map_location\u001b[39m=\u001b[39mdevice))\n\u001b[1;32m      4\u001b[0m model\u001b[39m.\u001b[39mload_state_dict(th\u001b[39m.\u001b[39mload(discrimator_path, map_location\u001b[39m=\u001b[39mdevice))\n",
      "File \u001b[0;32m~/.local/lib/python3.9/site-packages/torch/nn/modules/module.py:2041\u001b[0m, in \u001b[0;36mModule.load_state_dict\u001b[0;34m(self, state_dict, strict)\u001b[0m\n\u001b[1;32m   2036\u001b[0m         error_msgs\u001b[39m.\u001b[39minsert(\n\u001b[1;32m   2037\u001b[0m             \u001b[39m0\u001b[39m, \u001b[39m'\u001b[39m\u001b[39mMissing key(s) in state_dict: \u001b[39m\u001b[39m{}\u001b[39;00m\u001b[39m. \u001b[39m\u001b[39m'\u001b[39m\u001b[39m.\u001b[39mformat(\n\u001b[1;32m   2038\u001b[0m                 \u001b[39m'\u001b[39m\u001b[39m, \u001b[39m\u001b[39m'\u001b[39m\u001b[39m.\u001b[39mjoin(\u001b[39m'\u001b[39m\u001b[39m\"\u001b[39m\u001b[39m{}\u001b[39;00m\u001b[39m\"\u001b[39m\u001b[39m'\u001b[39m\u001b[39m.\u001b[39mformat(k) \u001b[39mfor\u001b[39;00m k \u001b[39min\u001b[39;00m missing_keys)))\n\u001b[1;32m   2040\u001b[0m \u001b[39mif\u001b[39;00m \u001b[39mlen\u001b[39m(error_msgs) \u001b[39m>\u001b[39m \u001b[39m0\u001b[39m:\n\u001b[0;32m-> 2041\u001b[0m     \u001b[39mraise\u001b[39;00m \u001b[39mRuntimeError\u001b[39;00m(\u001b[39m'\u001b[39m\u001b[39mError(s) in loading state_dict for \u001b[39m\u001b[39m{}\u001b[39;00m\u001b[39m:\u001b[39m\u001b[39m\\n\u001b[39;00m\u001b[39m\\t\u001b[39;00m\u001b[39m{}\u001b[39;00m\u001b[39m'\u001b[39m\u001b[39m.\u001b[39mformat(\n\u001b[1;32m   2042\u001b[0m                        \u001b[39mself\u001b[39m\u001b[39m.\u001b[39m\u001b[39m__class__\u001b[39m\u001b[39m.\u001b[39m\u001b[39m__name__\u001b[39m, \u001b[39m\"\u001b[39m\u001b[39m\\n\u001b[39;00m\u001b[39m\\t\u001b[39;00m\u001b[39m\"\u001b[39m\u001b[39m.\u001b[39mjoin(error_msgs)))\n\u001b[1;32m   2043\u001b[0m \u001b[39mreturn\u001b[39;00m _IncompatibleKeys(missing_keys, unexpected_keys)\n",
      "\u001b[0;31mRuntimeError\u001b[0m: Error(s) in loading state_dict for Encoder_TCN:\n\tsize mismatch for output_layer.weight: copying a param with shape torch.Size([8, 30]) from checkpoint, the shape in current model is torch.Size([16, 30]).\n\tsize mismatch for output_layer.bias: copying a param with shape torch.Size([8]) from checkpoint, the shape in current model is torch.Size([16])."
     ]
    }
   ],
   "source": [
    "\n",
    "# Load the weights into the models\n",
    "decoder.load_state_dict(th.load(decoder_path, map_location=device))\n",
    "encoder.load_state_dict(th.load(encoder_path, map_location=device))\n",
    "model.load_state_dict(th.load(discrimator_path, map_location=device))"
   ]
  },
  {
   "cell_type": "code",
   "execution_count": null,
   "metadata": {},
   "outputs": [],
   "source": [
    "\n",
    "# GLOBAL VARIABLES : ANOMALY THRESHOLD\n",
    "\n",
    "def predict(sample, encoder, decoder, discriminator, TCN = True):\n",
    "    # process sample to make it fit input size (probably th tensor)\n",
    "    sample = th.tensor(sample.values, dtype=th.float32).to(device)\n",
    "    latent_space = encoder(sample)\n",
    "    if len(latent_space.shape) == 2:\n",
    "        latent_space = latent_space.unsqueeze(1)\n",
    "    critic_score = th.mean(discriminator(latent_space))\n",
    "    if not TCN:\n",
    "        latent_space = latent_space.repeat(1, sample.shape[1], 1).to(device)\n",
    "    reconstruction = decoder(latent_space)\n",
    "    reconstruction_error = F.mse_loss(reconstruction, sample)\n",
    "    return reconstruction_error, critic_score\n",
    "\n",
    "\n",
    "\n",
    "\n",
    "\n",
    "\n",
    "\n",
    "\n"
   ]
  }
 ],
 "metadata": {
  "kernelspec": {
   "display_name": "Python 3.9.2 64-bit",
   "language": "python",
   "name": "python3"
  },
  "language_info": {
   "codemirror_mode": {
    "name": "ipython",
    "version": 3
   },
   "file_extension": ".py",
   "mimetype": "text/x-python",
   "name": "python",
   "nbconvert_exporter": "python",
   "pygments_lexer": "ipython3",
   "version": "3.9.2"
  },
  "orig_nbformat": 4,
  "vscode": {
   "interpreter": {
    "hash": "916dbcbb3f70747c44a77c7bcd40155683ae19c65e1c03b4aa3499c5328201f1"
   }
  }
 },
 "nbformat": 4,
 "nbformat_minor": 2
}
