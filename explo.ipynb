{
 "cells": [
  {
   "cell_type": "code",
   "execution_count": 1,
   "metadata": {},
   "outputs": [],
   "source": [
    "import pandas as pd"
   ]
  },
  {
   "cell_type": "code",
   "execution_count": 2,
   "metadata": {},
   "outputs": [],
   "source": [
    "df = pd.read_csv(\"MetroPT2.csv\")"
   ]
  },
  {
   "cell_type": "code",
   "execution_count": 3,
   "metadata": {},
   "outputs": [
    {
     "data": {
      "text/plain": [
       "Index(['timestamp', 'TP2', 'TP3', 'H1', 'DV_pressure', 'Reservoirs',\n",
       "       'Oil_temperature', 'Flowmeter', 'Motor_current', 'COMP', 'DV_eletric',\n",
       "       'Towers', 'MPG', 'LPS', 'Pressure_switch', 'Oil_level',\n",
       "       'Caudal_impulses', 'gpsLat', 'gpsLong', 'gpsSpeed', 'gpsQuality'],\n",
       "      dtype='object')"
      ]
     },
     "execution_count": 3,
     "metadata": {},
     "output_type": "execute_result"
    }
   ],
   "source": [
    "df.columns"
   ]
  },
  {
   "cell_type": "code",
   "execution_count": 5,
   "metadata": {},
   "outputs": [
    {
     "ename": "KeyboardInterrupt",
     "evalue": "",
     "output_type": "error",
     "traceback": [
      "\u001b[0;31m---------------------------------------------------------------------------\u001b[0m",
      "\u001b[0;31mKeyboardInterrupt\u001b[0m                         Traceback (most recent call last)",
      "Cell \u001b[0;32mIn[5], line 1\u001b[0m\n\u001b[0;32m----> 1\u001b[0m df\u001b[39m.\u001b[39;49mtimestamp\u001b[39m.\u001b[39;49munique()\n",
      "File \u001b[0;32m~/.local/lib/python3.9/site-packages/pandas/core/series.py:2194\u001b[0m, in \u001b[0;36munique\u001b[0;34m(self)\u001b[0m\n\u001b[1;32m   2168\u001b[0m \u001b[39mdef\u001b[39;00m \u001b[39mmode\u001b[39m(\u001b[39mself\u001b[39m, dropna: \u001b[39mbool\u001b[39m \u001b[39m=\u001b[39m \u001b[39mTrue\u001b[39;00m) \u001b[39m-\u001b[39m\u001b[39m>\u001b[39m Series:\n\u001b[1;32m   2169\u001b[0m     \u001b[39m\"\"\"\u001b[39;00m\n\u001b[1;32m   2170\u001b[0m \u001b[39m    Return the mode(s) of the Series.\u001b[39;00m\n\u001b[1;32m   2171\u001b[0m \n\u001b[1;32m   2172\u001b[0m \u001b[39m    The mode is the value that appears most often. There can be multiple modes.\u001b[39;00m\n\u001b[1;32m   2173\u001b[0m \n\u001b[1;32m   2174\u001b[0m \u001b[39m    Always returns Series even if only one value is returned.\u001b[39;00m\n\u001b[1;32m   2175\u001b[0m \n\u001b[1;32m   2176\u001b[0m \u001b[39m    Parameters\u001b[39;00m\n\u001b[1;32m   2177\u001b[0m \u001b[39m    ----------\u001b[39;00m\n\u001b[1;32m   2178\u001b[0m \u001b[39m    dropna : bool, default True\u001b[39;00m\n\u001b[1;32m   2179\u001b[0m \u001b[39m        Don't consider counts of NaN/NaT.\u001b[39;00m\n\u001b[1;32m   2180\u001b[0m \n\u001b[1;32m   2181\u001b[0m \u001b[39m    Returns\u001b[39;00m\n\u001b[1;32m   2182\u001b[0m \u001b[39m    -------\u001b[39;00m\n\u001b[1;32m   2183\u001b[0m \u001b[39m    Series\u001b[39;00m\n\u001b[1;32m   2184\u001b[0m \u001b[39m        Modes of the Series in sorted order.\u001b[39;00m\n\u001b[1;32m   2185\u001b[0m \n\u001b[1;32m   2186\u001b[0m \u001b[39m    Examples\u001b[39;00m\n\u001b[1;32m   2187\u001b[0m \u001b[39m    --------\u001b[39;00m\n\u001b[1;32m   2188\u001b[0m \u001b[39m    >>> s = pd.Series([2, 4, 2, 2, 4, None])\u001b[39;00m\n\u001b[1;32m   2189\u001b[0m \u001b[39m    >>> s.mode()\u001b[39;00m\n\u001b[1;32m   2190\u001b[0m \u001b[39m    0    2.0\u001b[39;00m\n\u001b[1;32m   2191\u001b[0m \u001b[39m    dtype: float64\u001b[39;00m\n\u001b[1;32m   2192\u001b[0m \n\u001b[1;32m   2193\u001b[0m \u001b[39m    More than one mode:\u001b[39;00m\n\u001b[0;32m-> 2194\u001b[0m \n\u001b[1;32m   2195\u001b[0m \u001b[39m    >>> s = pd.Series([2, 4, 8, 2, 4, None])\u001b[39;00m\n\u001b[1;32m   2196\u001b[0m \u001b[39m    >>> s.mode()\u001b[39;00m\n\u001b[1;32m   2197\u001b[0m \u001b[39m    0    2.0\u001b[39;00m\n\u001b[1;32m   2198\u001b[0m \u001b[39m    1    4.0\u001b[39;00m\n\u001b[1;32m   2199\u001b[0m \u001b[39m    dtype: float64\u001b[39;00m\n\u001b[1;32m   2200\u001b[0m \n\u001b[1;32m   2201\u001b[0m \u001b[39m    With and without considering null value:\u001b[39;00m\n\u001b[1;32m   2202\u001b[0m \n\u001b[1;32m   2203\u001b[0m \u001b[39m    >>> s = pd.Series([2, 4, None, None, 4, None])\u001b[39;00m\n\u001b[1;32m   2204\u001b[0m \u001b[39m    >>> s.mode(dropna=False)\u001b[39;00m\n\u001b[1;32m   2205\u001b[0m \u001b[39m    0   NaN\u001b[39;00m\n\u001b[1;32m   2206\u001b[0m \u001b[39m    dtype: float64\u001b[39;00m\n\u001b[1;32m   2207\u001b[0m \u001b[39m    >>> s = pd.Series([2, 4, None, None, 4, None])\u001b[39;00m\n\u001b[1;32m   2208\u001b[0m \u001b[39m    >>> s.mode()\u001b[39;00m\n\u001b[1;32m   2209\u001b[0m \u001b[39m    0    4.0\u001b[39;00m\n\u001b[1;32m   2210\u001b[0m \u001b[39m    dtype: float64\u001b[39;00m\n\u001b[1;32m   2211\u001b[0m \u001b[39m    \"\"\"\u001b[39;00m\n\u001b[1;32m   2212\u001b[0m     \u001b[39m# TODO: Add option for bins like value_counts()\u001b[39;00m\n\u001b[1;32m   2213\u001b[0m     values \u001b[39m=\u001b[39m \u001b[39mself\u001b[39m\u001b[39m.\u001b[39m_values\n",
      "File \u001b[0;32m~/.local/lib/python3.9/site-packages/pandas/core/base.py:1030\u001b[0m, in \u001b[0;36munique\u001b[0;34m(self)\u001b[0m\n\u001b[1;32m   1028\u001b[0m \u001b[39m@final\u001b[39m\n\u001b[1;32m   1029\u001b[0m \u001b[39mdef\u001b[39;00m \u001b[39mnunique\u001b[39m(\u001b[39mself\u001b[39m, dropna: \u001b[39mbool\u001b[39m \u001b[39m=\u001b[39m \u001b[39mTrue\u001b[39;00m) \u001b[39m-\u001b[39m\u001b[39m>\u001b[39m \u001b[39mint\u001b[39m:\n\u001b[0;32m-> 1030\u001b[0m     \u001b[39m\"\"\"\u001b[39;00m\n\u001b[1;32m   1031\u001b[0m \u001b[39m    Return number of unique elements in the object.\u001b[39;00m\n\u001b[1;32m   1032\u001b[0m \n\u001b[1;32m   1033\u001b[0m \u001b[39m    Excludes NA values by default.\u001b[39;00m\n\u001b[1;32m   1034\u001b[0m \n\u001b[1;32m   1035\u001b[0m \u001b[39m    Parameters\u001b[39;00m\n\u001b[1;32m   1036\u001b[0m \u001b[39m    ----------\u001b[39;00m\n\u001b[1;32m   1037\u001b[0m \u001b[39m    dropna : bool, default True\u001b[39;00m\n\u001b[1;32m   1038\u001b[0m \u001b[39m        Don't include NaN in the count.\u001b[39;00m\n\u001b[1;32m   1039\u001b[0m \n\u001b[1;32m   1040\u001b[0m \u001b[39m    Returns\u001b[39;00m\n\u001b[1;32m   1041\u001b[0m \u001b[39m    -------\u001b[39;00m\n\u001b[1;32m   1042\u001b[0m \u001b[39m    int\u001b[39;00m\n\u001b[1;32m   1043\u001b[0m \n\u001b[1;32m   1044\u001b[0m \u001b[39m    See Also\u001b[39;00m\n\u001b[1;32m   1045\u001b[0m \u001b[39m    --------\u001b[39;00m\n\u001b[1;32m   1046\u001b[0m \u001b[39m    DataFrame.nunique: Method nunique for DataFrame.\u001b[39;00m\n\u001b[1;32m   1047\u001b[0m \u001b[39m    Series.count: Count non-NA/null observations in the Series.\u001b[39;00m\n\u001b[1;32m   1048\u001b[0m \n\u001b[1;32m   1049\u001b[0m \u001b[39m    Examples\u001b[39;00m\n\u001b[1;32m   1050\u001b[0m \u001b[39m    --------\u001b[39;00m\n\u001b[1;32m   1051\u001b[0m \u001b[39m    >>> s = pd.Series([1, 3, 5, 7, 7])\u001b[39;00m\n\u001b[1;32m   1052\u001b[0m \u001b[39m    >>> s\u001b[39;00m\n\u001b[1;32m   1053\u001b[0m \u001b[39m    0    1\u001b[39;00m\n\u001b[1;32m   1054\u001b[0m \u001b[39m    1    3\u001b[39;00m\n\u001b[1;32m   1055\u001b[0m \u001b[39m    2    5\u001b[39;00m\n\u001b[1;32m   1056\u001b[0m \u001b[39m    3    7\u001b[39;00m\n\u001b[1;32m   1057\u001b[0m \u001b[39m    4    7\u001b[39;00m\n\u001b[1;32m   1058\u001b[0m \u001b[39m    dtype: int64\u001b[39;00m\n\u001b[1;32m   1059\u001b[0m \n\u001b[1;32m   1060\u001b[0m \u001b[39m    >>> s.nunique()\u001b[39;00m\n\u001b[1;32m   1061\u001b[0m \u001b[39m    4\u001b[39;00m\n\u001b[1;32m   1062\u001b[0m \u001b[39m    \"\"\"\u001b[39;00m\n\u001b[1;32m   1063\u001b[0m     uniqs \u001b[39m=\u001b[39m \u001b[39mself\u001b[39m\u001b[39m.\u001b[39munique()\n\u001b[1;32m   1064\u001b[0m     \u001b[39mif\u001b[39;00m dropna:\n",
      "File \u001b[0;32m~/.local/lib/python3.9/site-packages/pandas/core/algorithms.py:390\u001b[0m, in \u001b[0;36munique\u001b[0;34m(values)\u001b[0m\n\u001b[1;32m    307\u001b[0m \u001b[39mdef\u001b[39;00m \u001b[39munique\u001b[39m(values):\n\u001b[1;32m    308\u001b[0m     \u001b[39m\"\"\"\u001b[39;00m\n\u001b[1;32m    309\u001b[0m \u001b[39m    Return unique values based on a hash table.\u001b[39;00m\n\u001b[1;32m    310\u001b[0m \n\u001b[1;32m    311\u001b[0m \u001b[39m    Uniques are returned in order of appearance. This does NOT sort.\u001b[39;00m\n\u001b[1;32m    312\u001b[0m \n\u001b[1;32m    313\u001b[0m \u001b[39m    Significantly faster than numpy.unique for long enough sequences.\u001b[39;00m\n\u001b[1;32m    314\u001b[0m \u001b[39m    Includes NA values.\u001b[39;00m\n\u001b[1;32m    315\u001b[0m \n\u001b[1;32m    316\u001b[0m \u001b[39m    Parameters\u001b[39;00m\n\u001b[1;32m    317\u001b[0m \u001b[39m    ----------\u001b[39;00m\n\u001b[1;32m    318\u001b[0m \u001b[39m    values : 1d array-like\u001b[39;00m\n\u001b[1;32m    319\u001b[0m \n\u001b[1;32m    320\u001b[0m \u001b[39m    Returns\u001b[39;00m\n\u001b[1;32m    321\u001b[0m \u001b[39m    -------\u001b[39;00m\n\u001b[1;32m    322\u001b[0m \u001b[39m    numpy.ndarray or ExtensionArray\u001b[39;00m\n\u001b[1;32m    323\u001b[0m \n\u001b[1;32m    324\u001b[0m \u001b[39m        The return can be:\u001b[39;00m\n\u001b[1;32m    325\u001b[0m \n\u001b[1;32m    326\u001b[0m \u001b[39m        * Index : when the input is an Index\u001b[39;00m\n\u001b[1;32m    327\u001b[0m \u001b[39m        * Categorical : when the input is a Categorical dtype\u001b[39;00m\n\u001b[1;32m    328\u001b[0m \u001b[39m        * ndarray : when the input is a Series/ndarray\u001b[39;00m\n\u001b[1;32m    329\u001b[0m \n\u001b[1;32m    330\u001b[0m \u001b[39m        Return numpy.ndarray or ExtensionArray.\u001b[39;00m\n\u001b[1;32m    331\u001b[0m \n\u001b[1;32m    332\u001b[0m \u001b[39m    See Also\u001b[39;00m\n\u001b[1;32m    333\u001b[0m \u001b[39m    --------\u001b[39;00m\n\u001b[1;32m    334\u001b[0m \u001b[39m    Index.unique : Return unique values from an Index.\u001b[39;00m\n\u001b[1;32m    335\u001b[0m \u001b[39m    Series.unique : Return unique values of Series object.\u001b[39;00m\n\u001b[1;32m    336\u001b[0m \n\u001b[1;32m    337\u001b[0m \u001b[39m    Examples\u001b[39;00m\n\u001b[1;32m    338\u001b[0m \u001b[39m    --------\u001b[39;00m\n\u001b[1;32m    339\u001b[0m \u001b[39m    >>> pd.unique(pd.Series([2, 1, 3, 3]))\u001b[39;00m\n\u001b[1;32m    340\u001b[0m \u001b[39m    array([2, 1, 3])\u001b[39;00m\n\u001b[1;32m    341\u001b[0m \n\u001b[1;32m    342\u001b[0m \u001b[39m    >>> pd.unique(pd.Series([2] + [1] * 5))\u001b[39;00m\n\u001b[1;32m    343\u001b[0m \u001b[39m    array([2, 1])\u001b[39;00m\n\u001b[1;32m    344\u001b[0m \n\u001b[1;32m    345\u001b[0m \u001b[39m    >>> pd.unique(pd.Series([pd.Timestamp(\"20160101\"), pd.Timestamp(\"20160101\")]))\u001b[39;00m\n\u001b[1;32m    346\u001b[0m \u001b[39m    array(['2016-01-01T00:00:00.000000000'], dtype='datetime64[ns]')\u001b[39;00m\n\u001b[1;32m    347\u001b[0m \n\u001b[1;32m    348\u001b[0m \u001b[39m    >>> pd.unique(\u001b[39;00m\n\u001b[1;32m    349\u001b[0m \u001b[39m    ...     pd.Series(\u001b[39;00m\n\u001b[1;32m    350\u001b[0m \u001b[39m    ...         [\u001b[39;00m\n\u001b[1;32m    351\u001b[0m \u001b[39m    ...             pd.Timestamp(\"20160101\", tz=\"US/Eastern\"),\u001b[39;00m\n\u001b[1;32m    352\u001b[0m \u001b[39m    ...             pd.Timestamp(\"20160101\", tz=\"US/Eastern\"),\u001b[39;00m\n\u001b[1;32m    353\u001b[0m \u001b[39m    ...         ]\u001b[39;00m\n\u001b[1;32m    354\u001b[0m \u001b[39m    ...     )\u001b[39;00m\n\u001b[1;32m    355\u001b[0m \u001b[39m    ... )\u001b[39;00m\n\u001b[1;32m    356\u001b[0m \u001b[39m    <DatetimeArray>\u001b[39;00m\n\u001b[1;32m    357\u001b[0m \u001b[39m    ['2016-01-01 00:00:00-05:00']\u001b[39;00m\n\u001b[1;32m    358\u001b[0m \u001b[39m    Length: 1, dtype: datetime64[ns, US/Eastern]\u001b[39;00m\n\u001b[1;32m    359\u001b[0m \n\u001b[1;32m    360\u001b[0m \u001b[39m    >>> pd.unique(\u001b[39;00m\n\u001b[1;32m    361\u001b[0m \u001b[39m    ...     pd.Index(\u001b[39;00m\n\u001b[1;32m    362\u001b[0m \u001b[39m    ...         [\u001b[39;00m\n\u001b[1;32m    363\u001b[0m \u001b[39m    ...             pd.Timestamp(\"20160101\", tz=\"US/Eastern\"),\u001b[39;00m\n\u001b[1;32m    364\u001b[0m \u001b[39m    ...             pd.Timestamp(\"20160101\", tz=\"US/Eastern\"),\u001b[39;00m\n\u001b[1;32m    365\u001b[0m \u001b[39m    ...         ]\u001b[39;00m\n\u001b[1;32m    366\u001b[0m \u001b[39m    ...     )\u001b[39;00m\n\u001b[1;32m    367\u001b[0m \u001b[39m    ... )\u001b[39;00m\n\u001b[1;32m    368\u001b[0m \u001b[39m    DatetimeIndex(['2016-01-01 00:00:00-05:00'],\u001b[39;00m\n\u001b[1;32m    369\u001b[0m \u001b[39m            dtype='datetime64[ns, US/Eastern]',\u001b[39;00m\n\u001b[1;32m    370\u001b[0m \u001b[39m            freq=None)\u001b[39;00m\n\u001b[1;32m    371\u001b[0m \n\u001b[1;32m    372\u001b[0m \u001b[39m    >>> pd.unique(np.array(list(\"baabc\"), dtype=\"O\"))\u001b[39;00m\n\u001b[1;32m    373\u001b[0m \u001b[39m    array(['b', 'a', 'c'], dtype=object)\u001b[39;00m\n\u001b[1;32m    374\u001b[0m \n\u001b[1;32m    375\u001b[0m \u001b[39m    An unordered Categorical will return categories in the\u001b[39;00m\n\u001b[1;32m    376\u001b[0m \u001b[39m    order of appearance.\u001b[39;00m\n\u001b[1;32m    377\u001b[0m \n\u001b[1;32m    378\u001b[0m \u001b[39m    >>> pd.unique(pd.Series(pd.Categorical(list(\"baabc\"))))\u001b[39;00m\n\u001b[1;32m    379\u001b[0m \u001b[39m    ['b', 'a', 'c']\u001b[39;00m\n\u001b[1;32m    380\u001b[0m \u001b[39m    Categories (3, object): ['a', 'b', 'c']\u001b[39;00m\n\u001b[1;32m    381\u001b[0m \n\u001b[1;32m    382\u001b[0m \u001b[39m    >>> pd.unique(pd.Series(pd.Categorical(list(\"baabc\"), categories=list(\"abc\"))))\u001b[39;00m\n\u001b[1;32m    383\u001b[0m \u001b[39m    ['b', 'a', 'c']\u001b[39;00m\n\u001b[1;32m    384\u001b[0m \u001b[39m    Categories (3, object): ['a', 'b', 'c']\u001b[39;00m\n\u001b[1;32m    385\u001b[0m \n\u001b[1;32m    386\u001b[0m \u001b[39m    An ordered Categorical preserves the category ordering.\u001b[39;00m\n\u001b[1;32m    387\u001b[0m \n\u001b[1;32m    388\u001b[0m \u001b[39m    >>> pd.unique(\u001b[39;00m\n\u001b[1;32m    389\u001b[0m \u001b[39m    ...     pd.Series(\u001b[39;00m\n\u001b[0;32m--> 390\u001b[0m \u001b[39m    ...         pd.Categorical(list(\"baabc\"), categories=list(\"abc\"), ordered=True)\u001b[39;00m\n\u001b[1;32m    391\u001b[0m \u001b[39m    ...     )\u001b[39;00m\n\u001b[1;32m    392\u001b[0m \u001b[39m    ... )\u001b[39;00m\n\u001b[1;32m    393\u001b[0m \u001b[39m    ['b', 'a', 'c']\u001b[39;00m\n\u001b[1;32m    394\u001b[0m \u001b[39m    Categories (3, object): ['a' < 'b' < 'c']\u001b[39;00m\n\u001b[1;32m    395\u001b[0m \n\u001b[1;32m    396\u001b[0m \u001b[39m    An array of tuples\u001b[39;00m\n\u001b[1;32m    397\u001b[0m \n\u001b[1;32m    398\u001b[0m \u001b[39m    >>> pd.unique(pd.Series([(\"a\", \"b\"), (\"b\", \"a\"), (\"a\", \"c\"), (\"b\", \"a\")]).values)\u001b[39;00m\n\u001b[1;32m    399\u001b[0m \u001b[39m    array([('a', 'b'), ('b', 'a'), ('a', 'c')], dtype=object)\u001b[39;00m\n\u001b[1;32m    400\u001b[0m \u001b[39m    \"\"\"\u001b[39;00m\n\u001b[1;32m    401\u001b[0m     \u001b[39mreturn\u001b[39;00m unique_with_mask(values)\n",
      "File \u001b[0;32m~/.local/lib/python3.9/site-packages/pandas/core/algorithms.py:429\u001b[0m, in \u001b[0;36munique_with_mask\u001b[0;34m(values, mask)\u001b[0m\n\u001b[1;32m    427\u001b[0m \u001b[39mdef\u001b[39;00m \u001b[39munique_with_mask\u001b[39m(values, mask: npt\u001b[39m.\u001b[39mNDArray[np\u001b[39m.\u001b[39mbool_] \u001b[39m|\u001b[39m \u001b[39mNone\u001b[39;00m \u001b[39m=\u001b[39m \u001b[39mNone\u001b[39;00m):\n\u001b[1;32m    428\u001b[0m     \u001b[39m\"\"\"See algorithms.unique for docs. Takes a mask for masked arrays.\"\"\"\u001b[39;00m\n\u001b[0;32m--> 429\u001b[0m     values \u001b[39m=\u001b[39m _ensure_arraylike(values, func_name\u001b[39m=\u001b[39m\u001b[39m\"\u001b[39m\u001b[39munique\u001b[39m\u001b[39m\"\u001b[39m)\n\u001b[1;32m    431\u001b[0m     \u001b[39mif\u001b[39;00m \u001b[39misinstance\u001b[39m(values\u001b[39m.\u001b[39mdtype, ExtensionDtype):\n\u001b[1;32m    432\u001b[0m         \u001b[39m# Dispatch to extension dtype's unique.\u001b[39;00m\n\u001b[1;32m    433\u001b[0m         \u001b[39mreturn\u001b[39;00m values\u001b[39m.\u001b[39munique()\n",
      "\u001b[0;31mKeyboardInterrupt\u001b[0m: "
     ]
    }
   ],
   "source": [
    "df.timestamp.unique()"
   ]
  },
  {
   "cell_type": "code",
   "execution_count": 7,
   "metadata": {},
   "outputs": [
    {
     "data": {
      "text/plain": [
       "(7116940, 21)"
      ]
     },
     "execution_count": 7,
     "metadata": {},
     "output_type": "execute_result"
    }
   ],
   "source": [
    "df.shape"
   ]
  },
  {
   "cell_type": "code",
   "execution_count": null,
   "metadata": {},
   "outputs": [],
   "source": []
  }
 ],
 "metadata": {
  "kernelspec": {
   "display_name": "Python 3.9.2 64-bit",
   "language": "python",
   "name": "python3"
  },
  "language_info": {
   "codemirror_mode": {
    "name": "ipython",
    "version": 3
   },
   "file_extension": ".py",
   "mimetype": "text/x-python",
   "name": "python",
   "nbconvert_exporter": "python",
   "pygments_lexer": "ipython3",
   "version": "3.9.2"
  },
  "orig_nbformat": 4,
  "vscode": {
   "interpreter": {
    "hash": "916dbcbb3f70747c44a77c7bcd40155683ae19c65e1c03b4aa3499c5328201f1"
   }
  }
 },
 "nbformat": 4,
 "nbformat_minor": 2
}
